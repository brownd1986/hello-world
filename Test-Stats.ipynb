{
 "cells": [
  {
   "cell_type": "markdown",
   "metadata": {},
   "source": [
    "Import what's required"
   ]
  },
  {
   "cell_type": "code",
   "execution_count": 1,
   "metadata": {},
   "outputs": [],
   "source": [
    "import warnings\n",
    "warnings.filterwarnings('ignore')"
   ]
  },
  {
   "cell_type": "code",
   "execution_count": 2,
   "metadata": {},
   "outputs": [
    {
     "name": "stderr",
     "output_type": "stream",
     "text": [
      "c:\\python\\python36\\lib\\site-packages\\sklearn\\cross_validation.py:41: DeprecationWarning: This module was deprecated in version 0.18 in favor of the model_selection module into which all the refactored classes and functions are moved. Also note that the interface of the new CV iterators are different from that of this module. This module will be removed in 0.20.\n",
      "  \"This module will be removed in 0.20.\", DeprecationWarning)\n"
     ]
    }
   ],
   "source": [
    "import pandas as pd\n",
    "import numpy as np\n",
    "from sklearn import datasets\n",
    "from sklearn import cross_validation\n",
    "from pandas.tools.plotting import scatter_matrix\n",
    "import matplotlib.pyplot as plt\n",
    "from sklearn import metrics\n",
    "from sklearn.linear_model import LogisticRegression\n",
    "from sklearn.linear_model import LinearRegression\n",
    "from sklearn import model_selection\n",
    "from sklearn.metrics import classification_report\n",
    "from sklearn.metrics import confusion_matrix\n",
    "from sklearn.metrics import accuracy_score\n",
    "from sklearn.tree import DecisionTreeClassifier\n",
    "from sklearn.neighbors import KNeighborsClassifier\n",
    "from sklearn.discriminant_analysis import LinearDiscriminantAnalysis\n",
    "from sklearn.naive_bayes import GaussianNB\n",
    "from sklearn.svm import SVC\n",
    "import seaborn as sns\n",
    "import glob\n",
    "import os\n",
    "from sklearn.preprocessing import binarize\n",
    "from sklearn.cross_validation import cross_val_score\n",
    "plt.style.use('ggplot')"
   ]
  },
  {
   "cell_type": "markdown",
   "metadata": {},
   "source": [
    "Read csv"
   ]
  },
  {
   "cell_type": "code",
   "execution_count": 21,
   "metadata": {},
   "outputs": [],
   "source": [
    "#full_results = pd.read_csv('E0.csv')\n",
    "full_results = pd.read_csv('overall.csv')\n",
    "#full_results.head()"
   ]
  },
  {
   "cell_type": "code",
   "execution_count": 22,
   "metadata": {},
   "outputs": [],
   "source": [
    "fixtures = pd.read_csv('fixtures.csv')"
   ]
  },
  {
   "cell_type": "code",
   "execution_count": 23,
   "metadata": {},
   "outputs": [
    {
     "data": {
      "text/plain": [
       "\"\\nfixtures = fixtures[['Date','Div','HomeTeam']]\\nfixtures['2GameForm'] = ''\\nfixtures['2GameGoalsFor'] = ''\\nfixtures['2GameGoalDiff'] = ''\\n\""
      ]
     },
     "execution_count": 23,
     "metadata": {},
     "output_type": "execute_result"
    }
   ],
   "source": [
    "\"\"\"\n",
    "fixtures = fixtures[['Date','Div','HomeTeam']]\n",
    "fixtures['2GameForm'] = ''\n",
    "fixtures['2GameGoalsFor'] = ''\n",
    "fixtures['2GameGoalDiff'] = ''\n",
    "\"\"\""
   ]
  },
  {
   "cell_type": "markdown",
   "metadata": {},
   "source": [
    "A function to calculate the result "
   ]
  },
  {
   "cell_type": "code",
   "execution_count": 6,
   "metadata": {},
   "outputs": [],
   "source": [
    "def result(x):\n",
    "\tconditions = [\n",
    "\t(x['GoalsFor'] > x['GoalsAgainst']),\n",
    "\t(x['GoalsFor'] == x['GoalsAgainst']),\n",
    "\t(x['GoalsFor'] < x['GoalsAgainst'])\n",
    "\t]\n",
    "\tchoices = [1,0,-1]\n",
    "\tx['Result'] = np.select(conditions, choices)\n",
    "\treturn x\n",
    "\n",
    "def home_win(x):\n",
    "\tconditions = [\n",
    "\t(x['HomeGoalsFor'] > x['HomeGoalsAgainst']),\n",
    "\t(x['HomeGoalsFor'] <= x['HomeGoalsAgainst'])\n",
    "\t]\n",
    "\tchoices = [1,0]\n",
    "\tx['Home_Win'] = np.select(conditions, choices)\n",
    "\treturn x\n",
    "\n",
    "def draw(x):\n",
    "\tconditions = [\n",
    "\t(x['HomeGoalsFor'] == x['HomeGoalsAgainst']),\n",
    "\t(x['HomeGoalsFor'] != x['HomeGoalsAgainst'])\n",
    "\t]\n",
    "\tchoices = [1,0]\n",
    "\tx['Draw'] = np.select(conditions, choices)\n",
    "\treturn x\n",
    "\n",
    "def away_win(x):\n",
    "\tconditions = [\n",
    "\t(x['HomeGoalsAgainst'] > x['HomeGoalsFor']),\n",
    "\t(x['HomeGoalsAgainst'] <= x['HomeGoalsFor'])\n",
    "\t]\n",
    "\tchoices = [1,0]\n",
    "\tx['Away_Win'] = np.select(conditions, choices)\n",
    "\treturn x\n",
    "\n",
    "def home_or_draw(x):\n",
    "\tconditions = [\n",
    "\t(x['HomeGoalsFor'] >= x['HomeGoalsAgainst']),\n",
    "\t(x['HomeGoalsFor'] < x['HomeGoalsAgainst'])\n",
    "\t]\n",
    "\tchoices = [1,0]\n",
    "\tx['Home_Draw'] = np.select(conditions, choices)\n",
    "\treturn x"
   ]
  },
  {
   "cell_type": "code",
   "execution_count": 7,
   "metadata": {},
   "outputs": [],
   "source": [
    "def joined_result(x):\n",
    "    if x == 'H':\n",
    "        return 1\n",
    "    elif x == 'D':\n",
    "        return 0\n",
    "    elif x == 'A':\n",
    "        return -1"
   ]
  },
  {
   "cell_type": "code",
   "execution_count": 8,
   "metadata": {},
   "outputs": [
    {
     "data": {
      "text/plain": [
       "1"
      ]
     },
     "execution_count": 8,
     "metadata": {},
     "output_type": "execute_result"
    }
   ],
   "source": [
    "joined_result('H')"
   ]
  },
  {
   "cell_type": "markdown",
   "metadata": {},
   "source": [
    "Define dataframes"
   ]
  },
  {
   "cell_type": "code",
   "execution_count": 9,
   "metadata": {},
   "outputs": [],
   "source": [
    "full_stats = full_results[['Date','Div','HomeTeam','AwayTeam','FTHG','FTAG','FTR']]\n",
    "home_stats = full_results.set_index(['Date','Div','HomeTeam'])\n",
    "away_stats = full_results.set_index(['Date','Div','AwayTeam'])"
   ]
  },
  {
   "cell_type": "code",
   "execution_count": 10,
   "metadata": {},
   "outputs": [],
   "source": [
    "home_stats = home_stats[['FTHG','FTAG']]\n",
    "home_stats.rename(columns={'FTHG':'GoalsFor','FTAG':'GoalsAgainst'},inplace='True')\n",
    "home_stats['GoalDiff'] = home_stats['GoalsFor'] - home_stats['GoalsAgainst']\n",
    "away_stats = away_stats[['FTAG','FTHG']]\n",
    "away_stats.rename(columns={'FTAG':'GoalsFor','FTHG':'GoalsAgainst'},inplace='True')\n",
    "away_stats['GoalDiff'] = away_stats['GoalsFor'] - away_stats['GoalsAgainst']"
   ]
  },
  {
   "cell_type": "markdown",
   "metadata": {},
   "source": [
    "Set dataframes with the result"
   ]
  },
  {
   "cell_type": "code",
   "execution_count": 11,
   "metadata": {},
   "outputs": [],
   "source": [
    "home_stats = result(home_stats)\n",
    "away_stats = result(away_stats)"
   ]
  },
  {
   "cell_type": "code",
   "execution_count": 12,
   "metadata": {},
   "outputs": [
    {
     "data": {
      "text/html": [
       "<div>\n",
       "<style scoped>\n",
       "    .dataframe tbody tr th:only-of-type {\n",
       "        vertical-align: middle;\n",
       "    }\n",
       "\n",
       "    .dataframe tbody tr th {\n",
       "        vertical-align: top;\n",
       "    }\n",
       "\n",
       "    .dataframe thead th {\n",
       "        text-align: right;\n",
       "    }\n",
       "</style>\n",
       "<table border=\"1\" class=\"dataframe\">\n",
       "  <thead>\n",
       "    <tr style=\"text-align: right;\">\n",
       "      <th></th>\n",
       "      <th></th>\n",
       "      <th></th>\n",
       "      <th>GoalsFor</th>\n",
       "      <th>GoalsAgainst</th>\n",
       "      <th>GoalDiff</th>\n",
       "      <th>Result</th>\n",
       "    </tr>\n",
       "    <tr>\n",
       "      <th>Date</th>\n",
       "      <th>Div</th>\n",
       "      <th>HomeTeam</th>\n",
       "      <th></th>\n",
       "      <th></th>\n",
       "      <th></th>\n",
       "      <th></th>\n",
       "    </tr>\n",
       "  </thead>\n",
       "  <tbody>\n",
       "    <tr>\n",
       "      <th rowspan=\"5\" valign=\"top\">03/06/17</th>\n",
       "      <th rowspan=\"5\" valign=\"top\">T1</th>\n",
       "      <th>Besiktas</th>\n",
       "      <td>4</td>\n",
       "      <td>0</td>\n",
       "      <td>4</td>\n",
       "      <td>1</td>\n",
       "    </tr>\n",
       "    <tr>\n",
       "      <th>Galatasaray</th>\n",
       "      <td>2</td>\n",
       "      <td>1</td>\n",
       "      <td>1</td>\n",
       "      <td>1</td>\n",
       "    </tr>\n",
       "    <tr>\n",
       "      <th>Kayserispor</th>\n",
       "      <td>0</td>\n",
       "      <td>1</td>\n",
       "      <td>-1</td>\n",
       "      <td>-1</td>\n",
       "    </tr>\n",
       "    <tr>\n",
       "      <th>Rizespor</th>\n",
       "      <td>1</td>\n",
       "      <td>0</td>\n",
       "      <td>1</td>\n",
       "      <td>1</td>\n",
       "    </tr>\n",
       "    <tr>\n",
       "      <th>Trabzonspor</th>\n",
       "      <td>1</td>\n",
       "      <td>2</td>\n",
       "      <td>-1</td>\n",
       "      <td>-1</td>\n",
       "    </tr>\n",
       "  </tbody>\n",
       "</table>\n",
       "</div>"
      ],
      "text/plain": [
       "                          GoalsFor  GoalsAgainst  GoalDiff  Result\n",
       "Date     Div HomeTeam                                             \n",
       "03/06/17 T1  Besiktas            4             0         4       1\n",
       "             Galatasaray         2             1         1       1\n",
       "             Kayserispor         0             1        -1      -1\n",
       "             Rizespor            1             0         1       1\n",
       "             Trabzonspor         1             2        -1      -1"
      ]
     },
     "execution_count": 12,
     "metadata": {},
     "output_type": "execute_result"
    }
   ],
   "source": [
    "home_stats.tail()"
   ]
  },
  {
   "cell_type": "code",
   "execution_count": 13,
   "metadata": {},
   "outputs": [],
   "source": [
    "home_stats.rename(columns={'GoalsFor':'HomeGoalsFor','GoalsAgainst':'HomeGoalsAgainst','GoalDiff':'HomeGoalDiff','Result':'HomeResult'},inplace='True')\n",
    "away_stats.rename(columns={'GoalsFor':'AwayGoalsFor','AwayGoalsAgainst':'AwayGoalsAgainst','GoalDiff':'AwayGoalDiff','Result':'AwayResult'},inplace='True')"
   ]
  },
  {
   "cell_type": "code",
   "execution_count": 14,
   "metadata": {},
   "outputs": [],
   "source": [
    "for num in range(2,7):\n",
    "        home = 'Home'\n",
    "        away = 'Away'\n",
    "        HomeGameForm=\"%s%sGameForm\" % (home,num)\n",
    "        HomeGameGoalsFor=\"%s%sGameGoalsFor\" % (home,num)\n",
    "        HomeGameGoalDiff=\"%s%sGameGoalDiff\" % (home,num)\n",
    "        AwayGameForm=\"%s%sGameForm\" % (away,num)\n",
    "        AwayGameGoalsFor=\"%s%sGameGoalsFor\" % (away,num)\n",
    "        AwayGameGoalDiff=\"%s%sGameGoalDiff\" % (away,num)\n",
    "        home_stats[HomeGameForm] = home_stats['HomeResult'].groupby(level='HomeTeam').apply(lambda x: pd.rolling_mean(x.shift(),num))\n",
    "        home_stats[HomeGameGoalsFor] = home_stats['HomeGoalsFor'].groupby(level='HomeTeam').apply(lambda x: pd.rolling_mean(x.shift(),num))\n",
    "        home_stats[HomeGameGoalDiff] = home_stats['HomeGoalDiff'].groupby(level='HomeTeam').apply(lambda x: pd.rolling_mean(x.shift(),num))\n",
    "        away_stats[AwayGameForm] = away_stats['AwayResult'].groupby(level='AwayTeam').apply(lambda x: pd.rolling_mean(x.shift(),num))\n",
    "        away_stats[AwayGameGoalsFor] = away_stats['AwayGoalsFor'].groupby(level='AwayTeam').apply(lambda x: pd.rolling_mean(x.shift(),num))\n",
    "        away_stats[AwayGameGoalDiff] = away_stats['AwayGoalDiff'].groupby(level='AwayTeam').apply(lambda x: pd.rolling_mean(x.shift(),num))"
   ]
  },
  {
   "cell_type": "code",
   "execution_count": 15,
   "metadata": {
    "scrolled": true
   },
   "outputs": [
    {
     "data": {
      "text/html": [
       "<div>\n",
       "<style scoped>\n",
       "    .dataframe tbody tr th:only-of-type {\n",
       "        vertical-align: middle;\n",
       "    }\n",
       "\n",
       "    .dataframe tbody tr th {\n",
       "        vertical-align: top;\n",
       "    }\n",
       "\n",
       "    .dataframe thead th {\n",
       "        text-align: right;\n",
       "    }\n",
       "</style>\n",
       "<table border=\"1\" class=\"dataframe\">\n",
       "  <thead>\n",
       "    <tr style=\"text-align: right;\">\n",
       "      <th></th>\n",
       "      <th>Date</th>\n",
       "      <th>Div</th>\n",
       "      <th>HomeTeam</th>\n",
       "      <th>AwayTeam</th>\n",
       "      <th>FTHG</th>\n",
       "      <th>FTAG</th>\n",
       "      <th>FTR</th>\n",
       "      <th>HomeGoalsFor</th>\n",
       "      <th>HomeGoalsAgainst</th>\n",
       "      <th>HomeGoalDiff</th>\n",
       "      <th>...</th>\n",
       "      <th>Away3GameGoalDiff</th>\n",
       "      <th>Away4GameForm</th>\n",
       "      <th>Away4GameGoalsFor</th>\n",
       "      <th>Away4GameGoalDiff</th>\n",
       "      <th>Away5GameForm</th>\n",
       "      <th>Away5GameGoalsFor</th>\n",
       "      <th>Away5GameGoalDiff</th>\n",
       "      <th>Away6GameForm</th>\n",
       "      <th>Away6GameGoalsFor</th>\n",
       "      <th>Away6GameGoalDiff</th>\n",
       "    </tr>\n",
       "  </thead>\n",
       "  <tbody>\n",
       "    <tr>\n",
       "      <th>7805</th>\n",
       "      <td>03/06/17</td>\n",
       "      <td>T1</td>\n",
       "      <td>Besiktas</td>\n",
       "      <td>Osmanlispor</td>\n",
       "      <td>4</td>\n",
       "      <td>0</td>\n",
       "      <td>H</td>\n",
       "      <td>4</td>\n",
       "      <td>0</td>\n",
       "      <td>4</td>\n",
       "      <td>...</td>\n",
       "      <td>-0.666667</td>\n",
       "      <td>0.0</td>\n",
       "      <td>1.25</td>\n",
       "      <td>0.25</td>\n",
       "      <td>-0.2</td>\n",
       "      <td>1.4</td>\n",
       "      <td>0.0</td>\n",
       "      <td>-0.333333</td>\n",
       "      <td>1.166667</td>\n",
       "      <td>-0.166667</td>\n",
       "    </tr>\n",
       "    <tr>\n",
       "      <th>7806</th>\n",
       "      <td>03/06/17</td>\n",
       "      <td>T1</td>\n",
       "      <td>Galatasaray</td>\n",
       "      <td>Konyaspor</td>\n",
       "      <td>2</td>\n",
       "      <td>1</td>\n",
       "      <td>H</td>\n",
       "      <td>2</td>\n",
       "      <td>1</td>\n",
       "      <td>1</td>\n",
       "      <td>...</td>\n",
       "      <td>-0.333333</td>\n",
       "      <td>0.0</td>\n",
       "      <td>1.25</td>\n",
       "      <td>0.00</td>\n",
       "      <td>0.2</td>\n",
       "      <td>1.2</td>\n",
       "      <td>0.2</td>\n",
       "      <td>0.000000</td>\n",
       "      <td>1.000000</td>\n",
       "      <td>-0.166667</td>\n",
       "    </tr>\n",
       "    <tr>\n",
       "      <th>7807</th>\n",
       "      <td>03/06/17</td>\n",
       "      <td>T1</td>\n",
       "      <td>Kayserispor</td>\n",
       "      <td>Buyuksehyr</td>\n",
       "      <td>0</td>\n",
       "      <td>1</td>\n",
       "      <td>A</td>\n",
       "      <td>0</td>\n",
       "      <td>1</td>\n",
       "      <td>-1</td>\n",
       "      <td>...</td>\n",
       "      <td>0.333333</td>\n",
       "      <td>0.0</td>\n",
       "      <td>1.25</td>\n",
       "      <td>0.00</td>\n",
       "      <td>0.2</td>\n",
       "      <td>1.6</td>\n",
       "      <td>0.6</td>\n",
       "      <td>0.333333</td>\n",
       "      <td>1.500000</td>\n",
       "      <td>0.666667</td>\n",
       "    </tr>\n",
       "    <tr>\n",
       "      <th>7808</th>\n",
       "      <td>03/06/17</td>\n",
       "      <td>T1</td>\n",
       "      <td>Rizespor</td>\n",
       "      <td>Alanyaspor</td>\n",
       "      <td>1</td>\n",
       "      <td>0</td>\n",
       "      <td>H</td>\n",
       "      <td>1</td>\n",
       "      <td>0</td>\n",
       "      <td>1</td>\n",
       "      <td>...</td>\n",
       "      <td>-1.666667</td>\n",
       "      <td>0.0</td>\n",
       "      <td>1.50</td>\n",
       "      <td>-1.00</td>\n",
       "      <td>0.2</td>\n",
       "      <td>1.8</td>\n",
       "      <td>-0.4</td>\n",
       "      <td>0.000000</td>\n",
       "      <td>1.666667</td>\n",
       "      <td>-0.500000</td>\n",
       "    </tr>\n",
       "    <tr>\n",
       "      <th>7809</th>\n",
       "      <td>03/06/17</td>\n",
       "      <td>T1</td>\n",
       "      <td>Trabzonspor</td>\n",
       "      <td>Bursaspor</td>\n",
       "      <td>1</td>\n",
       "      <td>2</td>\n",
       "      <td>A</td>\n",
       "      <td>1</td>\n",
       "      <td>2</td>\n",
       "      <td>-1</td>\n",
       "      <td>...</td>\n",
       "      <td>-3.666667</td>\n",
       "      <td>-1.0</td>\n",
       "      <td>0.50</td>\n",
       "      <td>-3.25</td>\n",
       "      <td>-0.8</td>\n",
       "      <td>0.6</td>\n",
       "      <td>-2.6</td>\n",
       "      <td>-0.833333</td>\n",
       "      <td>0.500000</td>\n",
       "      <td>-2.833333</td>\n",
       "    </tr>\n",
       "  </tbody>\n",
       "</table>\n",
       "<p>5 rows × 45 columns</p>\n",
       "</div>"
      ],
      "text/plain": [
       "          Date Div     HomeTeam     AwayTeam  FTHG  FTAG FTR  HomeGoalsFor  \\\n",
       "7805  03/06/17  T1     Besiktas  Osmanlispor     4     0   H             4   \n",
       "7806  03/06/17  T1  Galatasaray    Konyaspor     2     1   H             2   \n",
       "7807  03/06/17  T1  Kayserispor   Buyuksehyr     0     1   A             0   \n",
       "7808  03/06/17  T1     Rizespor   Alanyaspor     1     0   H             1   \n",
       "7809  03/06/17  T1  Trabzonspor    Bursaspor     1     2   A             1   \n",
       "\n",
       "      HomeGoalsAgainst  HomeGoalDiff        ...          Away3GameGoalDiff  \\\n",
       "7805                 0             4        ...                  -0.666667   \n",
       "7806                 1             1        ...                  -0.333333   \n",
       "7807                 1            -1        ...                   0.333333   \n",
       "7808                 0             1        ...                  -1.666667   \n",
       "7809                 2            -1        ...                  -3.666667   \n",
       "\n",
       "      Away4GameForm  Away4GameGoalsFor  Away4GameGoalDiff  Away5GameForm  \\\n",
       "7805            0.0               1.25               0.25           -0.2   \n",
       "7806            0.0               1.25               0.00            0.2   \n",
       "7807            0.0               1.25               0.00            0.2   \n",
       "7808            0.0               1.50              -1.00            0.2   \n",
       "7809           -1.0               0.50              -3.25           -0.8   \n",
       "\n",
       "      Away5GameGoalsFor  Away5GameGoalDiff  Away6GameForm  Away6GameGoalsFor  \\\n",
       "7805                1.4                0.0      -0.333333           1.166667   \n",
       "7806                1.2                0.2       0.000000           1.000000   \n",
       "7807                1.6                0.6       0.333333           1.500000   \n",
       "7808                1.8               -0.4       0.000000           1.666667   \n",
       "7809                0.6               -2.6      -0.833333           0.500000   \n",
       "\n",
       "      Away6GameGoalDiff  \n",
       "7805          -0.166667  \n",
       "7806          -0.166667  \n",
       "7807           0.666667  \n",
       "7808          -0.500000  \n",
       "7809          -2.833333  \n",
       "\n",
       "[5 rows x 45 columns]"
      ]
     },
     "execution_count": 15,
     "metadata": {},
     "output_type": "execute_result"
    }
   ],
   "source": [
    "home_noindex = home_stats.reset_index()\n",
    "away_noindex = away_stats.reset_index()\n",
    "#full_results\n",
    "home_merge = pd.merge(full_stats, home_noindex, on=['Date','Div','HomeTeam'])\n",
    "home_away_merge = pd.merge(home_merge, away_noindex, on=['Date','Div','AwayTeam'])\n",
    "home_away_merge.tail()"
   ]
  },
  {
   "cell_type": "code",
   "execution_count": 16,
   "metadata": {},
   "outputs": [],
   "source": [
    "home_away_merge_idx = home_away_merge.set_index(['Date','Div','HomeTeam','AwayTeam','FTR'])"
   ]
  },
  {
   "cell_type": "markdown",
   "metadata": {},
   "source": [
    "Check Best Correlation"
   ]
  },
  {
   "cell_type": "code",
   "execution_count": 17,
   "metadata": {},
   "outputs": [],
   "source": [
    "#home_away_merge_idx.corr()['HomeResult']"
   ]
  },
  {
   "cell_type": "markdown",
   "metadata": {},
   "source": [
    "select relevant columns"
   ]
  },
  {
   "cell_type": "code",
   "execution_count": 18,
   "metadata": {},
   "outputs": [],
   "source": [
    "home_away_merge_idx['3GameFormDiff'] = home_away_merge_idx['Home3GameForm'] - home_away_merge_idx['Away3GameForm']\n",
    "home_away_merge_idx_relevant = home_away_merge_idx[['FTHG','FTAG','HomeResult','3GameFormDiff']]\n",
    "#home_away_merge_cleaned = home_away_merge_idx_relevant.dropna()"
   ]
  },
  {
   "cell_type": "code",
   "execution_count": 19,
   "metadata": {},
   "outputs": [],
   "source": [
    "for num in range(2,7):\n",
    "        home = 'Home'\n",
    "        away = 'Away'\n",
    "        HomeGameForm=\"%s%sGameForm\" % (home,num)\n",
    "        HomeGameGoalsFor=\"%s%sGameGoalsFor\" % (home,num)\n",
    "        HomeGameGoalDiff=\"%s%sGameGoalDiff\" % (home,num)\n",
    "        AwayGameForm=\"%s%sGameForm\" % (away,num)\n",
    "        AwayGameGoalsFor=\"%s%sGameGoalsFor\" % (away,num)\n",
    "        AwayGameGoalDiff=\"%s%sGameGoalDiff\" % (away,num)\n",
    "        GameFormDiff = \"%sGameFormDiff\" % (num)\n",
    "        GameGoalsForDiff = \"%sGameGoalsForDiff\" % (num)\n",
    "        GameGoalDiffDiff = \"%sGameGoalDiffDiff\" % (num)\n",
    "        home_away_merge_idx[GameFormDiff] = home_away_merge_idx[HomeGameForm] - home_away_merge_idx[AwayGameForm]\n",
    "        home_away_merge_idx[GameGoalsForDiff] = home_away_merge_idx[HomeGameGoalsFor] - home_away_merge_idx[AwayGameGoalsFor]\n",
    "        home_away_merge_idx[GameGoalDiffDiff] = home_away_merge_idx[HomeGameGoalDiff] - home_away_merge_idx[AwayGameGoalDiff]"
   ]
  },
  {
   "cell_type": "code",
   "execution_count": 20,
   "metadata": {},
   "outputs": [],
   "source": [
    "home_away_merge_cleaned = home_away_merge_idx.fillna(value=-9999)"
   ]
  },
  {
   "cell_type": "code",
   "execution_count": 23,
   "metadata": {},
   "outputs": [],
   "source": [
    "home_away_merge_cleaned = home_win(home_away_merge_cleaned)\n",
    "home_away_merge_cleaned = draw(home_away_merge_cleaned)\n",
    "home_away_merge_cleaned = away_win(home_away_merge_cleaned)\n",
    "home_away_merge_cleaned = home_or_draw(home_away_merge_cleaned)"
   ]
  },
  {
   "cell_type": "markdown",
   "metadata": {},
   "source": [
    "# Logistic Regression on HomeResult"
   ]
  },
  {
   "cell_type": "code",
   "execution_count": 24,
   "metadata": {},
   "outputs": [],
   "source": [
    "logreg = LogisticRegression()"
   ]
  },
  {
   "cell_type": "code",
   "execution_count": 25,
   "metadata": {},
   "outputs": [
    {
     "name": "stdout",
     "output_type": "stream",
     "text": [
      "0.712929907153\n",
      "0.714235986077\n",
      "0.713558873682\n",
      "0.714295166046\n",
      "0.714458800344\n"
     ]
    }
   ],
   "source": [
    "for num in range(2,7):\n",
    "    X_GameFormDiff = \"%sGameFormDiff\" % (num)\n",
    "    X_GameGoalsForDiff = \"%sGameGoalsForDiff\" % (num)\n",
    "    X_GameGoalDiffDiff = \"%sGameGoalDiffDiff\" % (num)\n",
    "    y = home_away_merge_cleaned['Home_Draw']\n",
    "    X = home_away_merge_cleaned[[X_GameFormDiff, X_GameGoalsForDiff, X_GameGoalDiffDiff]]\n",
    "    print(cross_val_score(logreg, X, y, cv=10, scoring='precision').mean())"
   ]
  },
  {
   "cell_type": "code",
   "execution_count": 26,
   "metadata": {},
   "outputs": [],
   "source": [
    "y = home_away_merge_cleaned['Home_Draw']\n",
    "X = home_away_merge_cleaned[['3GameFormDiff', '3GameGoalsForDiff', '3GameGoalDiffDiff']]"
   ]
  },
  {
   "cell_type": "code",
   "execution_count": 27,
   "metadata": {},
   "outputs": [],
   "source": [
    "X_train, X_test, y_train, y_test = cross_validation.train_test_split(X, y, test_size=0.2)"
   ]
  },
  {
   "cell_type": "code",
   "execution_count": 28,
   "metadata": {},
   "outputs": [
    {
     "data": {
      "text/plain": [
       "LogisticRegression(C=1.0, class_weight=None, dual=False, fit_intercept=True,\n",
       "          intercept_scaling=1, max_iter=100, multi_class='ovr', n_jobs=1,\n",
       "          penalty='l2', random_state=None, solver='liblinear', tol=0.0001,\n",
       "          verbose=0, warm_start=False)"
      ]
     },
     "execution_count": 28,
     "metadata": {},
     "output_type": "execute_result"
    }
   ],
   "source": [
    "#X_train, X_test, y_train, y_test = cross_validation.train_test_split(X, y, test_size=0.2)\n",
    "logreg.fit(X_train, y_train)\n",
    "#logreg.score(X_train, y_train)"
   ]
  },
  {
   "cell_type": "code",
   "execution_count": 29,
   "metadata": {},
   "outputs": [
    {
     "data": {
      "text/plain": [
       "0.70806658130601796"
      ]
     },
     "execution_count": 29,
     "metadata": {},
     "output_type": "execute_result"
    }
   ],
   "source": [
    "y_pred = logreg.predict(X_test)\n",
    "metrics.accuracy_score(y_test, y_pred)"
   ]
  },
  {
   "cell_type": "code",
   "execution_count": 30,
   "metadata": {},
   "outputs": [],
   "source": [
    "y_pred_prob = logreg.predict_proba(X_test)[:, 1]"
   ]
  },
  {
   "cell_type": "code",
   "execution_count": 31,
   "metadata": {},
   "outputs": [
    {
     "data": {
      "text/plain": [
       "1    1104\n",
       "0     458\n",
       "Name: Home_Draw, dtype: int64"
      ]
     },
     "execution_count": 31,
     "metadata": {},
     "output_type": "execute_result"
    }
   ],
   "source": [
    "y_test.value_counts()"
   ]
  },
  {
   "cell_type": "code",
   "execution_count": 32,
   "metadata": {},
   "outputs": [
    {
     "data": {
      "text/plain": [
       "Text(0,0.5,'Frequency')"
      ]
     },
     "execution_count": 32,
     "metadata": {},
     "output_type": "execute_result"
    },
    {
     "data": {
      "image/png": "[encoded data removed]",
      "text/plain": [
       "<matplotlib.figure.Figure at 0x1d5d3c956d8>"
      ]
     },
     "metadata": {},
     "output_type": "display_data"
    }
   ],
   "source": [
    "%matplotlib inline\n",
    "import matplotlib.pyplot as plt\n",
    "plt.rcParams['font.size'] = 14\n",
    "# histogram of predicted probabilities\n",
    "plt.hist(y_pred_prob, bins=8)\n",
    "plt.xlim(0, 1)\n",
    "plt.title('Histogram of predicted probabilities')\n",
    "plt.xlabel('Predicted probability ')\n",
    "plt.ylabel('Frequency')"
   ]
  },
  {
   "cell_type": "code",
   "execution_count": 33,
   "metadata": {},
   "outputs": [
    {
     "name": "stdout",
     "output_type": "stream",
     "text": [
      "[[ 666    6]\n",
      " [1644   27]]\n",
      "0.818181818182\n"
     ]
    }
   ],
   "source": [
    "X_train, X_test, y_train, y_test = cross_validation.train_test_split(X, y, test_size=0.3)\n",
    "logreg.fit(X_train, y_train)\n",
    "y_pred_prob = logreg.predict_proba(X_test)[:, 1]\n",
    "y_pred = binarize([y_pred_prob], 0.85)[0]\n",
    "confusion = metrics.confusion_matrix(y_test, y_pred)\n",
    "print(confusion)\n",
    "TP = confusion[1, 1]\n",
    "TN = confusion[0, 0]\n",
    "FP = confusion[0, 1]\n",
    "FN = confusion[1, 0]\n",
    "#Precision Value\n",
    "#print(TP / float(TP + FP))\n",
    "print(metrics.precision_score(y_test, y_pred))"
   ]
  },
  {
   "cell_type": "code",
   "execution_count": 34,
   "metadata": {
    "scrolled": true
   },
   "outputs": [
    {
     "data": {
      "text/html": [
       "<div>\n",
       "<style scoped>\n",
       "    .dataframe tbody tr th:only-of-type {\n",
       "        vertical-align: middle;\n",
       "    }\n",
       "\n",
       "    .dataframe tbody tr th {\n",
       "        vertical-align: top;\n",
       "    }\n",
       "\n",
       "    .dataframe thead th {\n",
       "        text-align: right;\n",
       "    }\n",
       "</style>\n",
       "<table border=\"1\" class=\"dataframe\">\n",
       "  <thead>\n",
       "    <tr style=\"text-align: right;\">\n",
       "      <th></th>\n",
       "      <th>Date</th>\n",
       "      <th>HomeTeam</th>\n",
       "      <th>AwayTeam</th>\n",
       "      <th>FTR</th>\n",
       "      <th>Predicted_Result</th>\n",
       "    </tr>\n",
       "  </thead>\n",
       "  <tbody>\n",
       "    <tr>\n",
       "      <th>28</th>\n",
       "      <td>18/03/17</td>\n",
       "      <td>Hoffenheim</td>\n",
       "      <td>Leverkusen</td>\n",
       "      <td>H</td>\n",
       "      <td>1.0</td>\n",
       "    </tr>\n",
       "    <tr>\n",
       "      <th>93</th>\n",
       "      <td>04/03/17</td>\n",
       "      <td>Panathinaikos</td>\n",
       "      <td>Veria</td>\n",
       "      <td>H</td>\n",
       "      <td>1.0</td>\n",
       "    </tr>\n",
       "    <tr>\n",
       "      <th>142</th>\n",
       "      <td>15/04/17</td>\n",
       "      <td>Dortmund</td>\n",
       "      <td>Ein Frankfurt</td>\n",
       "      <td>H</td>\n",
       "      <td>1.0</td>\n",
       "    </tr>\n",
       "    <tr>\n",
       "      <th>156</th>\n",
       "      <td>15/04/17</td>\n",
       "      <td>Monaco</td>\n",
       "      <td>Dijon</td>\n",
       "      <td>H</td>\n",
       "      <td>1.0</td>\n",
       "    </tr>\n",
       "    <tr>\n",
       "      <th>164</th>\n",
       "      <td>18/03/17</td>\n",
       "      <td>St Pauli</td>\n",
       "      <td>Hannover</td>\n",
       "      <td>D</td>\n",
       "      <td>1.0</td>\n",
       "    </tr>\n",
       "  </tbody>\n",
       "</table>\n",
       "</div>"
      ],
      "text/plain": [
       "         Date       HomeTeam       AwayTeam FTR  Predicted_Result\n",
       "28   18/03/17     Hoffenheim     Leverkusen   H               1.0\n",
       "93   04/03/17  Panathinaikos          Veria   H               1.0\n",
       "142  15/04/17       Dortmund  Ein Frankfurt   H               1.0\n",
       "156  15/04/17         Monaco          Dijon   H               1.0\n",
       "164  18/03/17       St Pauli       Hannover   D               1.0"
      ]
     },
     "execution_count": 34,
     "metadata": {},
     "output_type": "execute_result"
    }
   ],
   "source": [
    "prediction_df = pd.DataFrame(y_pred)\n",
    "prediction_df.rename(columns={0:'Predicted_Result'},inplace='True')\n",
    "X_test_df = pd.DataFrame(X_test)\n",
    "X_test_df = X_test_df.reset_index()\n",
    "X_test_df\n",
    "joined_pred = X_test_df.join(prediction_df)\n",
    "#joined_pred\n",
    "#joined_pred[['Date','HomeTeam','AwayTeam','FTR','Predicted_Result']]\n",
    "joined_pred[['Date','HomeTeam','AwayTeam','FTR','Predicted_Result']].loc[joined_pred['Predicted_Result'] == 1].head()"
   ]
  },
  {
   "cell_type": "code",
   "execution_count": 35,
   "metadata": {},
   "outputs": [
    {
     "data": {
      "image/png": "[encoded data removed]",
      "text/plain": [
       "<matplotlib.figure.Figure at 0x1d5d402c6a0>"
      ]
     },
     "metadata": {},
     "output_type": "display_data"
    }
   ],
   "source": [
    "# IMPORTANT: first argument is true values, second argument is predicted probabilities\n",
    "fpr, tpr, thresholds = metrics.roc_curve(y_test, y_pred_prob)\n",
    "plt.plot(fpr, tpr)\n",
    "plt.xlim([0.0, 1.0])\n",
    "plt.ylim([0.0, 1.0])\n",
    "plt.title('ROC curve')\n",
    "plt.xlabel('False Positive Rate (1 - Specificity)')\n",
    "plt.ylabel('True Positive Rate (Sensitivity)')\n",
    "plt.grid(True)"
   ]
  },
  {
   "cell_type": "code",
   "execution_count": 36,
   "metadata": {},
   "outputs": [
    {
     "name": "stdout",
     "output_type": "stream",
     "text": [
      "Sensitivity: 0.952124476361\n",
      "Specificity: 0.114583333333\n"
     ]
    }
   ],
   "source": [
    "def evaluate_threshold(threshold):\n",
    "    print('Sensitivity:', tpr[thresholds > threshold][-1])\n",
    "    print('Specificity:', 1 - fpr[thresholds > threshold][-1])\n",
    "    \n",
    "\n",
    "evaluate_threshold(0.6)"
   ]
  },
  {
   "cell_type": "code",
   "execution_count": 37,
   "metadata": {},
   "outputs": [
    {
     "ename": "NameError",
     "evalue": "name 'merged_new_indexed' is not defined",
     "output_type": "error",
     "traceback": [
      "\u001b[1;31m---------------------------------------------------------------------------\u001b[0m",
      "\u001b[1;31mNameError\u001b[0m                                 Traceback (most recent call last)",
      "\u001b[1;32m<ipython-input-37-70d2aaa189eb>\u001b[0m in \u001b[0;36m<module>\u001b[1;34m()\u001b[0m\n\u001b[1;32m----> 1\u001b[1;33m \u001b[0mprediction\u001b[0m \u001b[1;33m=\u001b[0m \u001b[0mlogreg\u001b[0m\u001b[1;33m.\u001b[0m\u001b[0mpredict\u001b[0m\u001b[1;33m(\u001b[0m\u001b[0mmerged_new_indexed\u001b[0m\u001b[1;33m)\u001b[0m\u001b[1;33m\u001b[0m\u001b[0m\n\u001b[0m\u001b[0;32m      2\u001b[0m \u001b[0mprediction_df\u001b[0m \u001b[1;33m=\u001b[0m \u001b[0mpd\u001b[0m\u001b[1;33m.\u001b[0m\u001b[0mDataFrame\u001b[0m\u001b[1;33m(\u001b[0m\u001b[0mprediction\u001b[0m\u001b[1;33m)\u001b[0m\u001b[1;33m\u001b[0m\u001b[0m\n\u001b[0;32m      3\u001b[0m \u001b[0mprediction_df\u001b[0m\u001b[1;33m.\u001b[0m\u001b[0mrename\u001b[0m\u001b[1;33m(\u001b[0m\u001b[0mcolumns\u001b[0m\u001b[1;33m=\u001b[0m\u001b[1;33m{\u001b[0m\u001b[1;36m0\u001b[0m\u001b[1;33m:\u001b[0m\u001b[1;34m'Predicted_Result'\u001b[0m\u001b[1;33m}\u001b[0m\u001b[1;33m,\u001b[0m\u001b[0minplace\u001b[0m\u001b[1;33m=\u001b[0m\u001b[1;34m'True'\u001b[0m\u001b[1;33m)\u001b[0m\u001b[1;33m\u001b[0m\u001b[0m\n\u001b[0;32m      4\u001b[0m \u001b[0mjoined_pred\u001b[0m \u001b[1;33m=\u001b[0m \u001b[0mmerged_new_noindex\u001b[0m\u001b[1;33m.\u001b[0m\u001b[0mjoin\u001b[0m\u001b[1;33m(\u001b[0m\u001b[0mprediction_df\u001b[0m\u001b[1;33m)\u001b[0m\u001b[1;33m\u001b[0m\u001b[0m\n\u001b[0;32m      5\u001b[0m \u001b[0mjoined_pred\u001b[0m\u001b[1;33m[\u001b[0m\u001b[1;33m[\u001b[0m\u001b[1;34m'Date'\u001b[0m\u001b[1;33m,\u001b[0m\u001b[1;34m'HomeTeam'\u001b[0m\u001b[1;33m,\u001b[0m\u001b[1;34m'AwayTeam'\u001b[0m\u001b[1;33m,\u001b[0m\u001b[1;34m'Predicted_Result'\u001b[0m\u001b[1;33m]\u001b[0m\u001b[1;33m]\u001b[0m\u001b[1;33m\u001b[0m\u001b[0m\n",
      "\u001b[1;31mNameError\u001b[0m: name 'merged_new_indexed' is not defined"
     ]
    }
   ],
   "source": [
    "prediction = logreg.predict(merged_new_indexed)\n",
    "prediction_df = pd.DataFrame(prediction)\n",
    "prediction_df.rename(columns={0:'Predicted_Result'},inplace='True')\n",
    "joined_pred = merged_new_noindex.join(prediction_df)\n",
    "joined_pred[['Date','HomeTeam','AwayTeam','Predicted_Result']]\n",
    "prob_pred = logreg.predict_proba(merged_new_indexed)\n",
    "prob_df = pd.DataFrame(prob_pred)\n",
    "prob_df.rename(columns={0:'AwayWinProb',1:'DrawProb',2:'HomeWinProb'},inplace='True')\n",
    "joined_pred_prod = joined_pred.join(prob_df)\n",
    "joined_pred_prod[['Date','HomeTeam','AwayTeam','Predicted_Result','HomeWinProb','DrawProb','AwayWinProb']]"
   ]
  },
  {
   "cell_type": "code",
   "execution_count": null,
   "metadata": {},
   "outputs": [],
   "source": [
    "home_away_merge_cleaned_noind = home_away_merge_cleaned.reset_index()\n",
    "home_away_merge_cleaned_prem = home_away_merge_cleaned_noind.loc[home_away_merge_cleaned_noind['Div'] == 'E0']\n",
    "home_away_merge_cleaned_prem_idx = home_away_merge_cleaned_prem.set_index(['Date','Div','HomeTeam','AwayTeam'])\n",
    "home_away_merge_cleaned_prem_idx_tail = home_away_merge_cleaned_prem_idx.tail(10)\n",
    "home_away_merge_cleaned_prem_idx_tail"
   ]
  },
  {
   "cell_type": "code",
   "execution_count": null,
   "metadata": {},
   "outputs": [],
   "source": [
    "home_away_merge_cleaned_prem_idx_tail_clean = home_away_merge_cleaned_prem_idx_tail[['2GameFormDiff', '2GameGoalsForDiff', '2GameGoalDiffDiff',\n",
    "    '3GameFormDiff', '3GameGoalsForDiff', '3GameGoalDiffDiff',\n",
    "    '4GameFormDiff', '4GameGoalsForDiff', '4GameGoalDiffDiff',\n",
    "    '5GameFormDiff', '5GameGoalsForDiff', '5GameGoalDiffDiff',\n",
    "    '6GameFormDiff', '6GameGoalsForDiff', '6GameGoalDiffDiff']]"
   ]
  },
  {
   "cell_type": "code",
   "execution_count": null,
   "metadata": {},
   "outputs": [],
   "source": [
    "probs = logreg.predict_proba(home_away_merge_cleaned_prem_idx_tail_clean)"
   ]
  },
  {
   "cell_type": "code",
   "execution_count": null,
   "metadata": {},
   "outputs": [],
   "source": [
    "probs_df = pd.DataFrame(probs)\n",
    "probs_df = probs_df[2]\n",
    "probs_df"
   ]
  },
  {
   "cell_type": "markdown",
   "metadata": {},
   "source": [
    "# Linear Regression on Goals Scored"
   ]
  },
  {
   "cell_type": "code",
   "execution_count": null,
   "metadata": {},
   "outputs": [],
   "source": [
    "home_stats.tail()\n",
    "home_stats_clean=home_stats.dropna()"
   ]
  },
  {
   "cell_type": "code",
   "execution_count": null,
   "metadata": {},
   "outputs": [],
   "source": [
    "sns.pairplot(home_stats_clean, x_vars=['Home3GameGoalsFor'], y_vars='HomeGoalsFor', size=7, aspect=0.7, kind='reg')"
   ]
  },
  {
   "cell_type": "code",
   "execution_count": null,
   "metadata": {},
   "outputs": [],
   "source": [
    "# create a Python list of feature names\n",
    "feature_cols = ['Home3GameGoalsFor','Home4GameGoalsFor']\n",
    "# use the list to select a subset of the original DataFrame\n",
    "X = home_stats_clean[feature_cols]\n",
    "X.head()"
   ]
  },
  {
   "cell_type": "code",
   "execution_count": null,
   "metadata": {},
   "outputs": [],
   "source": [
    "# check the type and shape of X\n",
    "print(type(X))\n",
    "print(X.shape)"
   ]
  },
  {
   "cell_type": "code",
   "execution_count": null,
   "metadata": {},
   "outputs": [],
   "source": [
    "# equivalent command that works if there are no spaces in the column name\n",
    "y = home_stats_clean.HomeResult\n",
    "\n",
    "# print the first 5 values\n",
    "y.head()"
   ]
  },
  {
   "cell_type": "code",
   "execution_count": null,
   "metadata": {},
   "outputs": [],
   "source": [
    "from sklearn.cross_validation import train_test_split\n",
    "X_train, X_test, y_train, y_test = train_test_split(X, y)"
   ]
  },
  {
   "cell_type": "code",
   "execution_count": null,
   "metadata": {},
   "outputs": [],
   "source": [
    "# default split is 75% for training and 25% for testing\n",
    "print(X_train.shape)\n",
    "print(y_train.shape)\n",
    "print(X_test.shape)\n",
    "print(y_test.shape)"
   ]
  },
  {
   "cell_type": "code",
   "execution_count": null,
   "metadata": {},
   "outputs": [],
   "source": [
    "# instantiate\n",
    "linreg = LinearRegression()\n",
    "# fit the model to the training data (learn the coefficients)\n",
    "linreg.fit(X_train, y_train)"
   ]
  },
  {
   "cell_type": "code",
   "execution_count": null,
   "metadata": {},
   "outputs": [],
   "source": [
    "# print the intercept and coefficients\n",
    "print(linreg.intercept_)\n",
    "print(linreg.coef_)"
   ]
  },
  {
   "cell_type": "code",
   "execution_count": null,
   "metadata": {},
   "outputs": [],
   "source": [
    "# make predictions on the testing set\n",
    "y_pred = linreg.predict(X_test)\n",
    "#type(y_pred)\n",
    "y_pred_floor = np.rint(y_pred)\n",
    "y_pred_floor"
   ]
  },
  {
   "cell_type": "code",
   "execution_count": null,
   "metadata": {},
   "outputs": [],
   "source": [
    "# calculate RMSE using scikit-learn\n",
    "np.sqrt(metrics.mean_squared_error(y_test, y_pred_floor))"
   ]
  },
  {
   "cell_type": "code",
   "execution_count": null,
   "metadata": {},
   "outputs": [],
   "source": [
    "# 10-fold cross-validation with all features\n",
    "lm = LinearRegression()\n",
    "scores = cross_val_score(lm, X, y, cv=10, scoring='mean_squared_error')\n",
    "print(scores)"
   ]
  },
  {
   "cell_type": "code",
   "execution_count": null,
   "metadata": {},
   "outputs": [],
   "source": [
    "# fix the sign of MSE scores\n",
    "mse_scores = -scores\n",
    "print(mse_scores)"
   ]
  },
  {
   "cell_type": "code",
   "execution_count": null,
   "metadata": {},
   "outputs": [],
   "source": [
    "# convert from MSE to RMSE\n",
    "rmse_scores = np.sqrt(mse_scores)\n",
    "print(rmse_scores)"
   ]
  },
  {
   "cell_type": "code",
   "execution_count": null,
   "metadata": {},
   "outputs": [],
   "source": [
    "# calculate the average RMSE\n",
    "print(rmse_scores.mean())"
   ]
  }
 ],
 "metadata": {
  "kernelspec": {
   "display_name": "Python 3",
   "language": "python",
   "name": "python3"
  },
  "language_info": {
   "codemirror_mode": {
    "name": "ipython",
    "version": 3
   },
   "file_extension": ".py",
   "mimetype": "text/x-python",
   "name": "python",
   "nbconvert_exporter": "python",
   "pygments_lexer": "ipython3",
   "version": "3.6.2"
  }
 },
 "nbformat": 4,
 "nbformat_minor": 2
}
